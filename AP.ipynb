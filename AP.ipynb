{
 "cells": [
  {
   "cell_type": "code",
   "execution_count": 27,
   "id": "df7ee853",
   "metadata": {},
   "outputs": [],
   "source": [
    "import numpy as np"
   ]
  },
  {
   "cell_type": "code",
   "execution_count": 28,
   "id": "7651f46c",
   "metadata": {},
   "outputs": [],
   "source": [
    "Hydrophobic_aa = {\"ALA\":\"A\", \"LEU\":\"L\", \"VAL\":\"V\", \"PHE\":\"F\", \"TYR\":\"Y\", \"TRP\":\"W\" }\n",
    "Hydrophilic_aa = {\"ASN\":\"N\", \"GLN\":\"Q\", \"SER\":\"S\", \"THR\":\"T\", \"HIS\":\"H\"}\n",
    "Charged_aa     = {\"Arg\":\"R\", \"Lys\":\"K\", \"GLU\":\"E\", \"ASP\":\"D\"}\n",
    "Other_aa       = {\"CYS\":\"C\", \"Pro\":\"P\", \"GLY\":\"G\"}"
   ]
  },
  {
   "cell_type": "markdown",
   "id": "fff82188",
   "metadata": {},
   "source": [
    "# Alpha and beta Structral Propensity Values (taken from https://doi.org/10.1073/pnas.96.22.12524)\n",
    "\n",
    "No Values for Proline were listed in the paper, therefore put as 0.0\n",
    "\n",
    "## Hydropbobicity values are taken from (https://www.nature.com/articles/nsb1096-842)"
   ]
  },
  {
   "cell_type": "code",
   "execution_count": 29,
   "id": "b1ff7ed6",
   "metadata": {},
   "outputs": [],
   "source": [
    "AlphaHelix_Propensity= {\"G\": 1.24, \"A\":-0.04, \"V\":-0.06, \"I\":-0.26, \"L\":-0.38,\n",
    "                        \"F\":-0.01, \"M\":-0.09, \"W\":0.21,  \"C\":0.57,  \"S\":0.15,\n",
    "                        \"T\": 0.39, \"N\":0.25,  \"Q\":-0.02, \"H\":-0.11, \"Y\":0.05,\n",
    "                        \"D\": 0.27, \"E\":-0.33, \"K\":-0.18, \"R\":-0.30, \"P\":0.0}"
   ]
  },
  {
   "cell_type": "code",
   "execution_count": 30,
   "id": "2942058f",
   "metadata": {},
   "outputs": [],
   "source": [
    "BetaSheet_Propensity=  {\"G\": 0.76, \"A\":-0.12, \"V\":-0.70, \"I\":-0.77, \"L\":0.15,\n",
    "                        \"F\":-0.67, \"M\":-0.71, \"W\":-0.14, \"C\":-0.63, \"S\":1.45,\n",
    "                        \"T\":-0.70, \"N\":1.05,  \"Q\":1.67,  \"H\":1.34,  \"Y\":-0.49,\n",
    "                        \"D\": 1.12, \"E\":0.91,  \"K\":0.29,  \"R\":0.34,  \"P\":0.0}"
   ]
  },
  {
   "cell_type": "code",
   "execution_count": 31,
   "id": "44d49085",
   "metadata": {},
   "outputs": [],
   "source": [
    "Hydrophobicity      =  {\"A\":-0.17, \"R\":-0.81, \"N\":-0.42, \"D\":-123, \"C\":0.24,\n",
    "                        \"Q\":-0.58, \"E\":-2.02, \"G\":-0.01, \"H\":-0.17,\"I\":0.31,\n",
    "                        \"L\":0.56,  \"K\":-0.99, \"M\":0.23,  \"F\":1.13, \"P\":-0.45,\n",
    "                        \"S\":-0.13, \"T\":-0.14, \"W\":1.85,  \"Y\":0.94, \"V\":-0.07}"
   ]
  },
  {
   "cell_type": "code",
   "execution_count": 32,
   "id": "6ad13a3a",
   "metadata": {},
   "outputs": [],
   "source": [
    "aa_seq=str(\"ALRLFNQRS\")"
   ]
  },
  {
   "cell_type": "code",
   "execution_count": 33,
   "id": "7def10c4",
   "metadata": {},
   "outputs": [],
   "source": [
    "aaseq= [i for i in aa_seq]\n",
    "#aaseq"
   ]
  },
  {
   "cell_type": "code",
   "execution_count": 34,
   "id": "6da2be1c",
   "metadata": {},
   "outputs": [],
   "source": [
    "aa_list   = [\"AAAA\", \"DRRE\", \"NQSS\", \"GSTC\", \"PQRTTTT\"]"
   ]
  },
  {
   "cell_type": "code",
   "execution_count": 35,
   "id": "bbcf194a",
   "metadata": {},
   "outputs": [],
   "source": [
    "#This class caluclates and returns the number of hydrophobic, hydrophilic, chraged and other types of amino acids \n",
    "#in the given sequence\n",
    "\n",
    "class Get_AA_Type:  \n",
    "    def __init__(self, seq):\n",
    "        self.seq = seq\n",
    "        self.hydrophobic_count = 0\n",
    "        self.hydrophilic_count = 0\n",
    "        self.other_count       = 0\n",
    "        self.charged_count     = 0\n",
    "\n",
    "        #print (self.seq)\n",
    "        self.xx=\"\".join([str(i) for i in seq])\n",
    "    def GetAACount(self):\n",
    "        \n",
    "        for i in self.seq:\n",
    "            for k in Hydrophobic_aa.values():\n",
    "                if i == k:\n",
    "                    self.hydrophobic_count +=1\n",
    "                    \n",
    "            for m in Hydrophilic_aa.values():\n",
    "                if i == m:\n",
    "                    self.hydrophilic_count +=1        \n",
    "            \n",
    "            for l in Charged_aa.values():\n",
    "                if i == l:\n",
    "                    self.charged_count +=1\n",
    "                \n",
    "            for n in Other_aa.values():\n",
    "                if i == n:\n",
    "                    self.other_count +=1\n",
    "        \n",
    "        return [self.xx,self.hydrophobic_count, self.charged_count, self.hydrophilic_count, self.other_count]"
   ]
  },
  {
   "cell_type": "code",
   "execution_count": 36,
   "id": "75d37f0a",
   "metadata": {},
   "outputs": [],
   "source": [
    "class Get_SS_Propensity():\n",
    "    def __init__(self,seq):\n",
    "        self.seq           = seq\n",
    "        self.I_Alpha_count = 0.0\n",
    "        self.I_Beta_count  = 0.0\n",
    "        self.xx            = \"\".join([str(i) for i in seq])\n",
    "\n",
    "    def alpha_ss_propensity(self):    \n",
    "        for i in self.seq:\n",
    "            for key, value in AlphaHelix_Propensity.items():\n",
    "                if i in key:\n",
    "                    self.I_Alpha_count +=value\n",
    "        #print (i, self.I_Alpha_count)            \n",
    "        return [round(self.I_Alpha_count,3)]\n",
    "    \n",
    "    def beta_ss_propensity(self):    \n",
    "        for i in self.seq:\n",
    "            for key, value in BetaSheet_Propensity.items():\n",
    "                if i in key:\n",
    "                    self.I_Beta_count +=value\n",
    "        return [round(self.I_Beta_count,3)]    "
   ]
  },
  {
   "cell_type": "code",
   "execution_count": 37,
   "id": "e08b97c7",
   "metadata": {},
   "outputs": [],
   "source": [
    "class Calc_AP_Hydrophobicity():\n",
    "    def __init__(self,seq):\n",
    "        self.seq               = str(seq)\n",
    "        self.P_hydrophobic     = -1.82 \n",
    "        self.P_Positive_charge =  1.36 \n",
    "        self.P_negative_charge =  0.95 \n",
    "        self.P_hydrophilic     =  float(0.10) \n",
    "        self.P_other           = -0.61\n",
    "     \n",
    "        ss                     = Get_AA_Type(aaseq).GetAACount()\n",
    "        self.num_hydrophobic   = ss[1]\n",
    "        self.num_hydrophilic   = ss[2]\n",
    "        self.num_charge        = ss[3]\n",
    "       \n",
    "    def Calc_Ihydr(self):  \n",
    "        self.Ihydr = 0.0\n",
    "        for i in self.seq:\n",
    "            for k in Hydrophobic_aa.values(): \n",
    "                if i == k:\n",
    "                    for key, value in Hydrophobicity.items():\n",
    "                        if i in key:\n",
    "                            self.Ihydr +=value-(self.P_hydrophobic*self.num_hydrophobic)\n",
    "        return (self.Ihydr)\n",
    "    \n",
    "    \n",
    "    def Calc_Ihydrophilicity(self):\n",
    "        self.Ihydrophil = 0.0\n",
    "        for i in self.seq:\n",
    "            for k in Hydrophilic_aa.values(): \n",
    "                if i == k:\n",
    "                    for key, value in Hydrophobicity.items(): # change this with \"hydrophilicity\"\n",
    "                        if i in key:\n",
    "                            self.Ihydrophil +=value-(self.P_hydrophilic*self.num_hydrophilic)\n",
    "                            #print (i,self.Ihydrophil)\n",
    "                else:\n",
    "                    pass\n",
    "                    #print (\"No hydrophilic residues in the seq\")\n",
    "        return (self.Ihydrophil)\n",
    "                "
   ]
  },
  {
   "cell_type": "code",
   "execution_count": 38,
   "id": "e974e340",
   "metadata": {},
   "outputs": [],
   "source": [
    "#for the list of amino acid\n",
    "for x in range(len(aa_list)):\n",
    "    seq             = aa_list[x]\n",
    "    aaList          = Get_AA_Type(seq).GetAACount()\n",
    "    I_alpha         = Get_SS_Propensity(seq).alpha_ss_propensity()\n",
    "    I_beta          = Get_SS_Propensity(seq).beta_ss_propensity()\n",
    "    Ihydro          = Calc_AP_Hydrophobicity(seq).Calc_Ihydr()\n",
    "    Ihydrophilicity = Calc_AP_Hydrophobicity(seq).Calc_Ihydrophilicity()\n",
    "    #print (aaList, I_alpha, I_beta, Ihydro,Ihydrophilicity)"
   ]
  },
  {
   "cell_type": "code",
   "execution_count": 39,
   "id": "05b9b655",
   "metadata": {},
   "outputs": [],
   "source": [
    "def GetAATypes(aa_seq):\n",
    "    hydrophobic_count = 0\n",
    "    hydrophilic_count = 0\n",
    "    charged_count     = 0\n",
    "    other_count       = 0\n",
    "    for i in aa_seq:\n",
    "        for k in Hydrophobic_aa.values():\n",
    "            if i == k:\n",
    "                hydrophobic_count+=1\n",
    "\n",
    "        for l in Charged_aa.values():\n",
    "            if i == l:\n",
    "                charged_count    +=1\n",
    "                \n",
    "        for m in Hydrophilic_aa.values():\n",
    "            if i == m:\n",
    "                hydrophilic_count+=1\n",
    "           \n",
    "        for n in Other_aa.values():\n",
    "            if i == n:\n",
    "                other_count      +=1\n",
    "                \n",
    "    #print (\"seq:\",aa_seq,\n",
    "    #       \"hydropbobic aa:\",hydrophobic_count, \"charged aa:\",charged_count,\n",
    "    #       \"hydrophilic aa:\",hydrophilic_count, \"other aa:\", other_count) \n",
    "    return [aa_seq,hydrophobic_count,charged_count,hydrophilic_count,other_count]\n"
   ]
  },
  {
   "cell_type": "code",
   "execution_count": 40,
   "id": "9ed8d1dd",
   "metadata": {},
   "outputs": [],
   "source": [
    "#for single seq\n",
    "aaList          = Get_AA_Type(aaseq).GetAACount()\n",
    "Ihydro          = Calc_AP_Hydrophobicity(aaseq).Calc_Ihydr()\n",
    "Ihydrophilicity = Calc_AP_Hydrophobicity(aaseq).Calc_Ihydrophilicity()\n",
    "#aaList, Ihydro,Ihydrophilicity"
   ]
  },
  {
   "cell_type": "code",
   "execution_count": null,
   "id": "e17c736c",
   "metadata": {},
   "outputs": [],
   "source": []
  }
 ],
 "metadata": {
  "kernelspec": {
   "display_name": "Python 3 (ipykernel)",
   "language": "python",
   "name": "python3"
  },
  "language_info": {
   "codemirror_mode": {
    "name": "ipython",
    "version": 3
   },
   "file_extension": ".py",
   "mimetype": "text/x-python",
   "name": "python",
   "nbconvert_exporter": "python",
   "pygments_lexer": "ipython3",
   "version": "3.9.7"
  }
 },
 "nbformat": 4,
 "nbformat_minor": 5
}
